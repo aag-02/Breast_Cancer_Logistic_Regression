{
 "cells": [
  {
   "cell_type": "code",
   "execution_count": 1,
   "id": "83283059-de5f-4083-a22d-082ded9e650e",
   "metadata": {},
   "outputs": [],
   "source": [
    "import pandas as pd\n",
    "import matplotlib.pyplot as plt\n",
    "import seaborn as sns\n",
    "import numpy as np\n",
    "from scipy.stats import boxcox\n",
    "pd.set_option('display.max_columns', None)\n",
    "from statsmodels.stats.outliers_influence import variance_inflation_factor\n",
    "import statsmodels.api as sm\n",
    "from sklearn.model_selection import train_test_split,cross_val_score, KFold,GridSearchCV,StratifiedKFold\n",
    "from sklearn.preprocessing import StandardScaler\n",
    "from sklearn.preprocessing import PolynomialFeatures\n",
    "from sklearn.linear_model import LogisticRegression\n",
    "from sklearn.metrics import confusion_matrix,classification_report\n",
    "from sklearn.metrics import accuracy_score, precision_score, recall_score, f1_score,make_scorer\n",
    "from imblearn.over_sampling import SMOTE\n"
   ]
  },
  {
   "cell_type": "code",
   "execution_count": 2,
   "id": "3e5c51aa-8374-4258-993e-c1e2fcbfed35",
   "metadata": {},
   "outputs": [],
   "source": [
    "df = pd.read_csv('hiii/final_breast_cancer.csv')"
   ]
  },
  {
   "cell_type": "code",
   "execution_count": 20,
   "id": "03bb38c3-9c26-4e0b-9a9d-067f8f7b872e",
   "metadata": {},
   "outputs": [
    {
     "data": {
      "text/plain": [
       "0.9031055900621118"
      ]
     },
     "execution_count": 20,
     "metadata": {},
     "output_type": "execute_result"
    }
   ],
   "source": [
    "X = df.drop('Status', axis = 1)\n",
    "y = df['Status']\n",
    "# f1_scorer = make_scorer(f1_score, average='macro')\n",
    "model = LogisticRegression(max_iter=10000, penalty = 'l2', C = 10, solver = 'liblinear', random_state=101)\n",
    "X_train, X_test, y_train, y_test = train_test_split(X, y, test_size=0.2, random_state=101, stratify=y)\n",
    "scaler = StandardScaler()\n",
    "\n",
    "poly_converter = PolynomialFeatures(degree=1, include_bias=False, interaction_only=True)\n",
    "X_train_poly = poly_converter.fit_transform(X_train)\n",
    "X_test_poly = poly_converter.transform(X_test)\n",
    "X_train_scaled = scaler.fit_transform(X_train_poly)\n",
    "X_test_scaled = scaler.transform(X_test_poly)\n",
    "\n",
    "\n",
    "model.fit(X_train_scaled, y_train)\n",
    "preds = model.predict(X_test_scaled)\n",
    "accuracy_score(y_test, preds)"
   ]
  },
  {
   "cell_type": "code",
   "execution_count": 21,
   "id": "c5af97fc-2ce5-4448-bcc7-86e6d30dff7d",
   "metadata": {},
   "outputs": [
    {
     "name": "stdout",
     "output_type": "stream",
     "text": [
      "              precision    recall  f1-score   support\n",
      "\n",
      "           0       0.92      0.97      0.94       682\n",
      "           1       0.75      0.55      0.64       123\n",
      "\n",
      "    accuracy                           0.90       805\n",
      "   macro avg       0.84      0.76      0.79       805\n",
      "weighted avg       0.90      0.90      0.90       805\n",
      "\n"
     ]
    }
   ],
   "source": [
    "print(classification_report(y_test,preds))\n"
   ]
  },
  {
   "cell_type": "code",
   "execution_count": 22,
   "id": "ac62d312-b75c-48fe-838f-c3178ac48612",
   "metadata": {},
   "outputs": [
    {
     "data": {
      "text/plain": [
       "0.9031055900621118"
      ]
     },
     "execution_count": 22,
     "metadata": {},
     "output_type": "execute_result"
    }
   ],
   "source": [
    "accuracy_score(y_test,preds)"
   ]
  },
  {
   "cell_type": "code",
   "execution_count": 14,
   "id": "af69835a-5a11-4950-8479-5964f3defb62",
   "metadata": {},
   "outputs": [
    {
     "data": {
      "text/plain": [
       "np.float64(0.8351109674639087)"
      ]
     },
     "execution_count": 14,
     "metadata": {},
     "output_type": "execute_result"
    }
   ],
   "source": [
    "precision_score(y_test, preds, average = 'macro')"
   ]
  },
  {
   "cell_type": "markdown",
   "id": "a81dd57f-5165-4c07-9c84-e3cfe0c34ebf",
   "metadata": {},
   "source": [
    "# SMOTE"
   ]
  },
  {
   "cell_type": "code",
   "execution_count": 17,
   "id": "ea4136d2-b63f-4071-a6bb-f7c58b70a6ec",
   "metadata": {},
   "outputs": [
    {
     "data": {
      "text/plain": [
       "0.7875776397515528"
      ]
     },
     "execution_count": 17,
     "metadata": {},
     "output_type": "execute_result"
    }
   ],
   "source": [
    "X = df.drop('Status', axis = 1)\n",
    "y = df['Status']\n",
    "smote = SMOTE(random_state=101)\n",
    "model = LogisticRegression(max_iter=10000, penalty = 'l2', C = 10, solver = 'liblinear', random_state=101, class_weight='balanced')\n",
    "\n",
    "X_train, X_test, y_train, y_test = train_test_split(X, y, test_size=0.2, random_state=101, stratify=y)\n",
    "scaler = StandardScaler()\n",
    "\n",
    "poly_converter = PolynomialFeatures(degree=2, include_bias=False, interaction_only=True)\n",
    "X_train_poly = poly_converter.fit_transform(X_train)\n",
    "X_test_poly = poly_converter.transform(X_test)\n",
    "X_train_poly, y_train_resampled = smote.fit_resample(X_train_poly, y_train)\n",
    "\n",
    "X_train_scaled = scaler.fit_transform(X_train_poly)\n",
    "X_test_scaled = scaler.transform(X_test_poly)\n",
    "\n",
    "\n",
    "model.fit(X_train_scaled, y_train_resampled)\n",
    "preds = model.predict(X_test_scaled)\n",
    "accuracy_score(y_test, preds)"
   ]
  },
  {
   "cell_type": "code",
   "execution_count": 16,
   "id": "c1ae5662-e0b4-45ef-9004-3678539e8fc3",
   "metadata": {},
   "outputs": [
    {
     "name": "stdout",
     "output_type": "stream",
     "text": [
      "              precision    recall  f1-score   support\n",
      "\n",
      "           0       0.93      0.81      0.87       682\n",
      "           1       0.39      0.67      0.49       123\n",
      "\n",
      "    accuracy                           0.79       805\n",
      "   macro avg       0.66      0.74      0.68       805\n",
      "weighted avg       0.85      0.79      0.81       805\n",
      "\n"
     ]
    }
   ],
   "source": [
    "print(classification_report(y_test,preds))\n"
   ]
  },
  {
   "cell_type": "code",
   "execution_count": null,
   "id": "17976816-fd71-421f-b8fe-cce692e535e2",
   "metadata": {},
   "outputs": [],
   "source": []
  }
 ],
 "metadata": {
  "kernelspec": {
   "display_name": "Python 3 (ipykernel)",
   "language": "python",
   "name": "python3"
  },
  "language_info": {
   "codemirror_mode": {
    "name": "ipython",
    "version": 3
   },
   "file_extension": ".py",
   "mimetype": "text/x-python",
   "name": "python",
   "nbconvert_exporter": "python",
   "pygments_lexer": "ipython3",
   "version": "3.9.6"
  }
 },
 "nbformat": 4,
 "nbformat_minor": 5
}
